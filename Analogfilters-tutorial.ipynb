{
 "metadata": {
  "language_info": {
   "codemirror_mode": {
    "name": "ipython",
    "version": 3
   },
   "file_extension": ".py",
   "mimetype": "text/x-python",
   "name": "python",
   "nbconvert_exporter": "python",
   "pygments_lexer": "ipython3",
   "version": "3.8.10"
  },
  "orig_nbformat": 4,
  "kernelspec": {
   "name": "python3",
   "display_name": "Python 3.8.10 64-bit"
  },
  "interpreter": {
   "hash": "31f2aee4e71d21fbe5cf8b01ff0e069b9275f58929596ceb00d14d90e3e16cd6"
  }
 },
 "nbformat": 4,
 "nbformat_minor": 2,
 "cells": [
  {
   "cell_type": "code",
   "execution_count": null,
   "source": [
    "import numpy as np \r\n",
    "import math\r\n",
    "import matplotlib.pyplot as plt \r\n",
    "from scipy import signal\r\n",
    "\r\n",
    "# 4TH ORDER BUTTERWORTH FILTER WITH A GAIN DROP OF 1/sqrt(2) AT 0.4 CYCLES/SAMPLE\r\n",
    "bb, ab  = signal.butter (4, 0.8, 'low', analog=False, output='ba')\r\n",
    "print ('Coefficients of b = ', bb)\r\n",
    "print ('Coefficients of a = ', ab)\r\n",
    "wb, hb = signal.freqz(bb, ab)\r\n",
    "wb = wb/(2*math.pi)\r\n",
    "plt.plot(wb, abs(np.array(hb)))\r\n",
    "\r\n",
    "plt.title('Butterworth filter frequency response')\r\n",
    "plt.xlabel('Frequency [cycles/sample]')\r\n",
    "plt.ylabel('Amplitute [dB]')\r\n",
    "plt.margins(0, 0.1)\r\n",
    "plt.grid(which = 'both', axis='both')\r\n",
    "plt.savefig('Butterworth Filter Freq Response.png')\r\n"
   ],
   "outputs": [],
   "metadata": {}
  },
  {
   "cell_type": "code",
   "execution_count": null,
   "source": [
    "# 4TH ORDER BESSEL FILTER WITH A GAIN DROP OF 1/sqrt(2) AT 0.4 CYCLES/SAMPLE\r\n",
    "\r\n",
    "bb, ab = signal.bessel (4, 0.8, 'low', analog=False, output='ba')\r\n",
    "print ('Coefficients of b = ', bb)\r\n",
    "print ('Coefficients of a = ', ab)\r\n",
    "wb, hb = signal.freqz(bb, ab)\r\n",
    "wb = wb/(2*math.pi)\r\n",
    "plt.plot(wb, abs(np.array(hb)))\r\n",
    "\r\n",
    "plt.title('Bessel filter frequency response')\r\n",
    "plt.xlabel('Frequency [cycles/sample]')\r\n",
    "plt.ylabel('Amplitute [dB]')\r\n",
    "plt.margins(0, 0.1)\r\n",
    "plt.grid(which= 'both', axis= 'both')\r\n",
    "plt.savefig('Bessel Filter Freq Response.png')"
   ],
   "outputs": [],
   "metadata": {}
  },
  {
   "cell_type": "code",
   "execution_count": null,
   "source": [
    "#4TH ORDER CHEBYSHEV FILTER TYPE 1 (ONLY IN PASSBAND RIPPLES) WITH MAX RIPPLES=2 AND THE GAIN DROP AT 1.5 CYCLES/SAMPLE\r\n",
    "\r\n",
    "bb, ab = signal.cheby1 (4, 2, 0.3, 'low', analog=False, output='ba')\r\n",
    "print ('Coefficients of b = ', bb)\r\n",
    "print ('Coefficients of a = ', ab)\r\n",
    "wb, hb = signal.freqz(bb, ab)\r\n",
    "wb = wb/(2*math.pi)\r\n",
    "plt.plot(wb, abs(np.array(hb)))\r\n",
    "\r\n",
    "plt.title('Chebyshev filter frequency response')\r\n",
    "plt.xlabel('Frequency [cycles/sample]')\r\n",
    "plt.ylabel('Amplitute [dB]')\r\n",
    "plt.margins(0, 0.1)\r\n",
    "plt.grid(which= 'both', axis= 'both')\r\n",
    "plt.savefig('Chebyshev Filter Freq Response.png')"
   ],
   "outputs": [],
   "metadata": {}
  },
  {
   "cell_type": "code",
   "execution_count": null,
   "source": [
    "# 4TH ORDER ELLIPTIC FILTER WITH MAX RIPPLES =2dB IN PASSBAND, MIN ATTENUATION =8dB IN STOP BAND AT 0.25 CYCLES/SAMPLE\n",
    "\n",
    "bb, ab = signal.ellip (4, 2, 8, 0.5, 'low', analog=False, output='ba')\n",
    "print ('Coefficients of b = ', bb)\n",
    "print ('Coefficients of a = ', ab)\n",
    "wb, hb = signal.freqz(bb, ab)\n",
    "wb = wb/(2*math.pi)\n",
    "plt.plot(wb, abs(np.array(hb)))\n",
    "\n",
    "plt.title('Elliptic filter frequency response')\n",
    "plt.xlabel('Frequency [cycles/sample]')\n",
    "plt.ylabel('Amplitute [dB]')\n",
    "plt.margins(0, 0.1)\n",
    "plt.grid(which= 'both', axis= 'both')\n",
    "plt.savefig('Elliptic Filter Freq Response.png')"
   ],
   "outputs": [],
   "metadata": {}
  },
  {
   "cell_type": "code",
   "execution_count": null,
   "source": [],
   "outputs": [],
   "metadata": {}
  }
 ]
}
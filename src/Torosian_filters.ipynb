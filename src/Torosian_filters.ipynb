{
  "nbformat": 4,
  "nbformat_minor": 0,
  "metadata": {
    "language_info": {
      "codemirror_mode": {
        "name": "ipython",
        "version": 3
      },
      "file_extension": ".py",
      "mimetype": "text/x-python",
      "name": "python",
      "nbconvert_exporter": "python",
      "pygments_lexer": "ipython3",
      "version": "3.8.10"
    },
    "orig_nbformat": 4,
    "kernelspec": {
      "name": "python3",
      "display_name": "Python 3.8.10 64-bit"
    },
    "interpreter": {
      "hash": "31f2aee4e71d21fbe5cf8b01ff0e069b9275f58929596ceb00d14d90e3e16cd6"
    },
    "colab": {
      "name": "Torosian_filters .ipynb",
      "provenance": [],
      "include_colab_link": true
    }
  },
  "cells": [
    {
      "cell_type": "markdown",
      "metadata": {
        "id": "view-in-github",
        "colab_type": "text"
      },
      "source": [
        "<a href=\"https://colab.research.google.com/github/hmu-mech-npap/diss.tn.filtering-wind.py/blob/main/src/Torosian_filters.ipynb\" target=\"_parent\"><img src=\"https://colab.research.google.com/assets/colab-badge.svg\" alt=\"Open In Colab\"/></a>"
      ]
    },
    {
      "cell_type": "markdown",
      "metadata": {
        "id": "PAWBVqqN3Voo"
      },
      "source": [
        ""
      ]
    },
    {
      "cell_type": "code",
      "metadata": {
        "id": "0wN_MvA63Y7Y"
      },
      "source": [
        "import numpy as np \n",
        "import math\n",
        "import matplotlib.pyplot as plt \n",
        "from scipy import signal"
      ],
      "execution_count": null,
      "outputs": []
    },
    {
      "cell_type": "code",
      "metadata": {
        "id": "AYBMWLkF3RrX"
      },
      "source": [
        "# 4TH ORDER BUTTERWORTH FILTER WITH A GAIN DROP OF 1/sqrt(2) AT 0.4 CYCLES/SAMPLE\n",
        "bb, ab  = signal.butter (4, 0.8, 'low', analog=False, output='ba')\n",
        "print ('Coefficients of b = ', bb)\n",
        "print ('Coefficients of a = ', ab)\n",
        "wb, hb = signal.freqz(bb, ab)\n",
        "wb = wb/(2*math.pi)\n",
        "\n",
        "\n",
        "plt.plot(wb, abs(np.array(hb)))\n",
        "plt.title('Butterworth filter frequency response')\n",
        "plt.xlabel('Frequency [cycles/sample]')\n",
        "plt.ylabel('Amplitute [dB]')\n",
        "plt.margins(0, 0.1)\n",
        "plt.grid(which = 'both', axis='both')\n",
        "plt.savefig('Butterworth Filter Freq Response.png')\n"
      ],
      "execution_count": null,
      "outputs": []
    },
    {
      "cell_type": "code",
      "metadata": {
        "id": "DlvhKrai3Rrd"
      },
      "source": [
        "# 4TH ORDER BESSEL FILTER WITH A GAIN DROP OF 1/sqrt(2) AT 0.4 CYCLES/SAMPLE\n",
        "\n",
        "bb, ab = signal.bessel (4, 0.8, 'low', analog=False, output='ba')\n",
        "print ('Coefficients of b = ', bb)\n",
        "print ('Coefficients of a = ', ab)\n",
        "wb, hb = signal.freqz(bb, ab)\n",
        "wb = wb/(2*math.pi)\n",
        "plt.plot(wb, abs(np.array(hb)))\n",
        "\n",
        "plt.title('Bessel filter frequency response')\n",
        "plt.xlabel('Frequency [cycles/sample]')\n",
        "plt.ylabel('Amplitute [dB]')\n",
        "plt.margins(0, 0.1)\n",
        "plt.grid(which= 'both', axis= 'both')\n",
        "plt.savefig('Bessel Filter Freq Response.png')"
      ],
      "execution_count": null,
      "outputs": []
    },
    {
      "cell_type": "code",
      "metadata": {
        "id": "caPo1wgp3Rre"
      },
      "source": [
        "#4TH ORDER CHEBYSHEV FILTER TYPE 1 (ONLY IN PASSBAND RIPPLES) WITH MAX RIPPLES=2 AND THE GAIN DROP AT 1.5 CYCLES/SAMPLE\n",
        "\n",
        "bb, ab = signal.cheby1 (4, 2, 0.3, 'low', analog=False, output='ba')\n",
        "print ('Coefficients of b = ', bb)\n",
        "print ('Coefficients of a = ', ab)\n",
        "wb, hb = signal.freqz(bb, ab)\n",
        "wb = wb/(2*math.pi)\n",
        "plt.plot(wb, abs(np.array(hb)))\n",
        "\n",
        "plt.title('Chebyshev filter frequency response')\n",
        "plt.xlabel('Frequency [cycles/sample]')\n",
        "plt.ylabel('Amplitute [dB]')\n",
        "plt.margins(0, 0.1)\n",
        "plt.grid(which= 'both', axis= 'both')\n",
        "plt.savefig('Chebyshev Filter Freq Response.png')"
      ],
      "execution_count": null,
      "outputs": []
    },
    {
      "cell_type": "code",
      "metadata": {
        "id": "EwgbTuuR3Rrf"
      },
      "source": [
        "# 4TH ORDER ELLIPTIC FILTER WITH MAX RIPPLES =2dB IN PASSBAND, MIN ATTENUATION =8dB IN STOP BAND AT 0.25 CYCLES/SAMPLE\n",
        "\n",
        "bb, ab = signal.ellip (4, 2, 8, 0.5, 'low', analog=False, output='ba')\n",
        "print ('Coefficients of b = ', bb)\n",
        "print ('Coefficients of a = ', ab)\n",
        "wb, hb = signal.freqz(bb, ab)\n",
        "wb = wb/(2*math.pi)\n",
        "plt.plot(wb, abs(np.array(hb)))\n",
        "\n",
        "plt.title('Elliptic filter frequency response')\n",
        "plt.xlabel('Frequency [cycles/sample]')\n",
        "plt.ylabel('Amplitute [dB]')\n",
        "plt.margins(0, 0.1)\n",
        "plt.grid(which= 'both', axis= 'both')\n",
        "plt.savefig('Elliptic Filter Freq Response.png')"
      ],
      "execution_count": null,
      "outputs": []
    },
    {
      "cell_type": "markdown",
      "metadata": {
        "id": "gNGKeFAz4arm"
      },
      "source": [
        "# applying a filter"
      ]
    },
    {
      "cell_type": "code",
      "metadata": {
        "id": "VSA8yJmR4o_H"
      },
      "source": [
        ""
      ],
      "execution_count": null,
      "outputs": []
    },
    {
      "cell_type": "code",
      "metadata": {
        "id": "jErzmUqc3Rrg"
      },
      "source": [
        "def generate_random_sig():\n",
        "  t = np.linspace(0, 1, 1000, False)  # 1 second\n",
        "  sig = np.sin(2*np.pi*10*t) + np.sin(2*np.pi*20*t) + np.random.rand(t.shape[0])\n",
        "  return (t,sig)\n",
        "t, sig = generate_random_sig()\n",
        "\n"
      ],
      "execution_count": null,
      "outputs": []
    },
    {
      "cell_type": "code",
      "metadata": {
        "id": "b0vywmOm4gFd"
      },
      "source": [
        "sos = signal.butter(10, 30, 'lp', fs=1000, output='sos')\n",
        "filtered = signal.sosfilt(sos, sig)\n",
        "fig, (ax1, ax2) = plt.subplots(2, 1, sharex=True)\n",
        "fig.suptitle('Filtering of signal with f1=10[Hz], f2=20[Hz] and noise')\n",
        "ax1.plot(t, sig)\n",
        "ax1.set_title('10 Hz and 20 Hz sinusoids + noise')\n",
        "ax1.axis([0, 1, -2, 2])\n",
        "ax2.plot(t, filtered)\n",
        "ax2.set_title('After filter')\n",
        "ax2.axis([0, 1, -2, 2])\n",
        "ax2.set_xlabel('Time [seconds]')\n",
        "plt.tight_layout()\n",
        "plt.show()"
      ],
      "execution_count": null,
      "outputs": []
    },
    {
      "cell_type": "markdown",
      "metadata": {
        "id": "0cT1-KSA6UUz"
      },
      "source": [
        "# Power spectrum"
      ]
    },
    {
      "cell_type": "code",
      "metadata": {
        "id": "r4TZrLYA6UCD"
      },
      "source": [
        "# signal.welch\n",
        "fs=1000\n",
        "f, Pxx_spec = signal.welch(sig, fs, 'flattop', 1024, scaling='spectrum')\n",
        "plt.figure()\n",
        "plt.semilogy(f, np.sqrt(Pxx_spec))\n",
        "plt.xlabel('frequency [Hz]')\n",
        "plt.ylabel('Linear spectrum [V RMS]')\n",
        "plt.title('Power spectrum (scipy.signal.welch)')\n",
        "plt.show()"
      ],
      "execution_count": null,
      "outputs": []
    },
    {
      "cell_type": "code",
      "metadata": {
        "id": "LvciF3p45Ypq"
      },
      "source": [
        "# signal.welch\n",
        "fs=1000\n",
        "f, Pxx_spec = signal.welch(filtered, fs, 'flattop', 1024, scaling='spectrum')\n",
        "plt.figure()\n",
        "plt.semilogy(f, np.sqrt(Pxx_spec))\n",
        "plt.xlabel('frequency [Hz]')\n",
        "plt.ylabel('Linear spectrum [V RMS]')\n",
        "plt.title('Power spectrum (scipy.signal.welch)')\n",
        "plt.show()"
      ],
      "execution_count": null,
      "outputs": []
    },
    {
      "cell_type": "code",
      "metadata": {
        "id": "KPHKItQK6ehs"
      },
      "source": [
        ""
      ],
      "execution_count": null,
      "outputs": []
    }
  ]
}
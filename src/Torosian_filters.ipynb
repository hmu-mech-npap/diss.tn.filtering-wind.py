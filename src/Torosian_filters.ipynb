{
  "cells": [
    {
      "cell_type": "markdown",
      "metadata": {
        "colab_type": "text",
        "id": "view-in-github"
      },
      "source": [
        "<a href=\"https://colab.research.google.com/github/hmu-mech-npap/diss.tn.filtering-wind.py/blob/main/src/Torosian_filters.ipynb\" target=\"_parent\"><img src=\"https://colab.research.google.com/assets/colab-badge.svg\" alt=\"Open In Colab\"/></a>"
      ]
    },
    {
      "cell_type": "markdown",
      "metadata": {
        "id": "PAWBVqqN3Voo"
      },
      "source": []
    },
    {
      "cell_type": "code",
      "execution_count": null,
      "metadata": {
        "id": "0wN_MvA63Y7Y"
      },
      "outputs": [],
      "source": [
        "import numpy as np \n",
        "import math\n",
        "import matplotlib.pyplot as plt \n",
        "from scipy import signal"
      ]
    },
    {
      "cell_type": "code",
      "execution_count": null,
      "metadata": {
        "id": "AYBMWLkF3RrX"
      },
      "outputs": [],
      "source": [
        "# N-order TH ORDER BUTTERWORTH FILTER WITH A GAIN DROP OF 1/sqrt(2) AT 0.4 CYCLES/SAMPLE\n",
        "n_order=2\n",
        "bb, ab  = signal.butter ( n_order, 0.5, 'low', analog=False, output='ba')\n",
        "print ('Coefficients of b = ', bb)\n",
        "print ('Coefficients of a = ', ab)\n",
        "wb, hb = signal.freqz(bb, ab)\n",
        "wb = wb/(2*math.pi)\n",
        "\n",
        "\n",
        "plt.plot(wb, abs(np.array(hb)))\n",
        "plt.title('Butterworth filter frequency response')\n",
        "plt.xlabel('Frequency [cycles/sample]')\n",
        "plt.ylabel('Amplitute [dB]')\n",
        "plt.xscale('log')\n",
        "plt.yscale('log')\n",
        "plt.margins(0, 0.1)\n",
        "plt.grid(which = 'both', axis='both')\n",
        "plt.savefig('Butterworth Filter Freq Response.png')\n"
      ]
    },
    {
      "cell_type": "code",
      "execution_count": null,
      "metadata": {
        "id": "DlvhKrai3Rrd"
      },
      "outputs": [],
      "source": [
        "# 4TH ORDER BESSEL FILTER WITH A GAIN DROP OF 1/sqrt(2) AT 0.4 CYCLES/SAMPLE\n",
        "\n",
        "bb, ab = signal.bessel (4, 0.8, 'low', analog=False, output='ba')\n",
        "print ('Coefficients of b = ', bb)\n",
        "print ('Coefficients of a = ', ab)\n",
        "wb, hb = signal.freqz(bb, ab)\n",
        "wb = wb/(2*math.pi)\n",
        "plt.plot(wb, abs(np.array(hb)))\n",
        "\n",
        "plt.title('Bessel filter frequency response')\n",
        "plt.xlabel('Frequency [cycles/sample]')\n",
        "plt.ylabel('Amplitute [dB]')\n",
        "plt.margins(0, 0.1)\n",
        "plt.grid(which= 'both', axis= 'both')\n",
        "plt.savefig('Bessel Filter Freq Response.png')"
      ]
    },
    {
      "cell_type": "code",
      "execution_count": null,
      "metadata": {
        "id": "caPo1wgp3Rre"
      },
      "outputs": [],
      "source": [
        "#4TH ORDER CHEBYSHEV FILTER TYPE 1 (ONLY IN PASSBAND RIPPLES) WITH MAX RIPPLES=2 AND THE GAIN DROP AT 1.5 CYCLES/SAMPLE\n",
        "\n",
        "bb, ab = signal.cheby1 (4, 2, 0.3, 'low', analog=False, output='ba')\n",
        "print ('Coefficients of b = ', bb)\n",
        "print ('Coefficients of a = ', ab)\n",
        "wb, hb = signal.freqz(bb, ab)\n",
        "wb = wb/(2*math.pi)\n",
        "plt.plot(wb, abs(np.array(hb)))\n",
        "\n",
        "plt.title('Chebyshev filter frequency response')\n",
        "plt.xlabel('Frequency [cycles/sample]')\n",
        "plt.ylabel('Amplitute [dB]')\n",
        "plt.margins(0, 0.1)\n",
        "plt.grid(which= 'both', axis= 'both')\n",
        "plt.savefig('Chebyshev Filter Freq Response.png')"
      ]
    },
    {
      "cell_type": "code",
      "execution_count": null,
      "metadata": {
        "id": "EwgbTuuR3Rrf"
      },
      "outputs": [],
      "source": [
        "# 4TH ORDER ELLIPTIC FILTER WITH MAX RIPPLES =2dB IN PASSBAND, MIN ATTENUATION =8dB IN STOP BAND AT 0.25 CYCLES/SAMPLE\n",
        "\n",
        "bb, ab = signal.ellip (4, 2, 8, 0.5, 'low', analog=False, output='ba')\n",
        "print ('Coefficients of b = ', bb)\n",
        "print ('Coefficients of a = ', ab)\n",
        "wb, hb = signal.freqz(bb, ab)\n",
        "wb = wb/(2*math.pi)\n",
        "plt.plot(wb, abs(np.array(hb)))\n",
        "\n",
        "plt.title('Elliptic filter frequency response')\n",
        "plt.xlabel('Frequency [cycles/sample]')\n",
        "plt.ylabel('Amplitute [dB]')\n",
        "plt.margins(0, 0.1)\n",
        "plt.grid(which= 'both', axis= 'both')\n",
        "plt.savefig('Elliptic Filter Freq Response.png')"
      ]
    },
    {
      "cell_type": "markdown",
      "metadata": {
        "id": "gNGKeFAz4arm"
      },
      "source": [
        "# applying a filter"
      ]
    },
    {
      "cell_type": "code",
      "execution_count": null,
      "metadata": {
        "id": "jErzmUqc3Rrg"
      },
      "outputs": [],
      "source": [
        "def generate_random_sig():\n",
        "  t = np.linspace(0, 1, 1000, False)  # 1 second\n",
        "  sig = np.sin(2*np.pi*10*t) + np.sin(2*np.pi*20*t) + np.random.rand(t.shape[0])\n",
        "  return (t,sig)\n",
        "t, sig = generate_random_sig()\n",
        "\n"
      ]
    },
    {
      "cell_type": "code",
      "execution_count": null,
      "metadata": {
        "id": "b0vywmOm4gFd"
      },
      "outputs": [],
      "source": [
        "sos = signal.butter(10, 30, 'lp', fs=1000, output='sos')\n",
        "filtered = signal.sosfilt(sos, sig)\n",
        "fig, (ax1, ax2) = plt.subplots(2, 1, sharex=True)\n",
        "fig.suptitle('Filtering of signal with f1=10[Hz], f2=20[Hz] and noise')\n",
        "ax1.plot(t, sig)\n",
        "ax1.set_title('10 Hz and 20 Hz sinusoids + noise')\n",
        "ax1.axis([0, 1, -2, 2])\n",
        "ax2.plot(t, filtered)\n",
        "ax2.set_title('After filter')\n",
        "ax2.axis([0, 1, -2, 2])\n",
        "ax2.set_xlabel('Time [seconds]')\n",
        "plt.tight_layout()\n",
        "plt.show()"
      ]
    },
    {
      "cell_type": "markdown",
      "metadata": {
        "id": "0cT1-KSA6UUz"
      },
      "source": [
        "# Power spectrum"
      ]
    },
    {
      "cell_type": "code",
      "execution_count": null,
      "metadata": {
        "id": "r4TZrLYA6UCD"
      },
      "outputs": [],
      "source": [
        "# signal.welch\n",
        "fs=1000\n",
        "f, Pxx_spec = signal.welch(sig, fs, 'flattop', 1024, scaling='spectrum')\n",
        "plt.figure()\n",
        "plt.semilogy(f, np.sqrt(Pxx_spec))\n",
        "plt.xlabel('frequency [Hz]')\n",
        "plt.ylabel('Linear spectrum [V RMS]')\n",
        "plt.title('Power spectrum (scipy.signal.welch)')\n",
        "plt.show()"
      ]
    },
    {
      "cell_type": "code",
      "execution_count": null,
      "metadata": {
        "id": "LvciF3p45Ypq"
      },
      "outputs": [],
      "source": [
        "# signal.welch\n",
        "fs=1000\n",
        "f, Pxx_spec = signal.welch(filtered, fs, 'flattop', 1024, scaling='spectrum')\n",
        "plt.figure()\n",
        "plt.semilogy(f, np.sqrt(Pxx_spec))\n",
        "plt.xlabel('frequency [Hz]')\n",
        "plt.ylabel('Linear spectrum [V RMS]')\n",
        "plt.title('Power spectrum (scipy.signal.welch)')\n",
        "plt.show()"
      ]
    },
    {
      "cell_type": "markdown",
      "metadata": {},
      "source": [
        "# Understanding butter filter \n",
        "the parameter used for the cutoff frequency can be ambiguous. \n",
        "\n",
        "I.e. the power spectrum should have value until half of the sampling frequnecy (fs/2), however some plots are normalised with respect to the sampling frequency.\n",
        "\n",
        "The following graphs put in a single log-log plot the:\n",
        "- raw signal\n",
        "- filtered signal\n",
        "- filter response for comparison."
      ]
    },
    {
      "cell_type": "code",
      "execution_count": null,
      "metadata": {
        "id": "KPHKItQK6ehs"
      },
      "outputs": [],
      "source": [
        "def generate_random_sig():\n",
        "  t = np.linspace(0, 1, 1000, False)  # 1 second\n",
        "  sig = np.sin(2*np.pi*10*t) + np.random.rand(t.shape[0])   #+ np.sin(2*np.pi*20*t) \n",
        "  sig = np.sin(2*np.pi*10*t) + np.random.rand(t.shape[0])  + np.sin(2*np.pi*20*t) \n",
        "    \n",
        "  return (t,sig)\n",
        "t, sig = generate_random_sig()\n"
      ]
    },
    {
      "cell_type": "markdown",
      "metadata": {},
      "source": [
        "__Filter options:__\n",
        "- N : int\n",
        "    The order of the filter.\n",
        "- Wn : array_like\n",
        "    The critical frequency or frequencies. For lowpass and highpass filters, Wn is a scalar; for bandpass and bandstop filters, Wn is a length-2 sequence.\n",
        "    For a Butterworth filter, this is the point at which the gain drops to 1/sqrt(2) that of the passband (the \"-3 dB point\").\n",
        "    For digital filters, Wn are in the same units as fs. By default, fs is 2 half-cycles/sample, so these are normalized from 0 to 1, where 1 is the Nyquist frequency. \n",
        "    (Wn is thus in half-cycles / sample.)\n",
        "\n",
        "    For analog filters, Wn is an angular frequency (e.g. rad/s).\n",
        "- btype : {'lowpass', 'highpass', 'bandpass', 'bandstop'}, optional\n",
        "    The type of filter. Default is 'lowpass'.\n",
        "- analog : bool, optional\n",
        "    When True, return an analog filter, otherwise a digital filter is returned.\n",
        "- output : {'ba', 'zpk', 'sos'}, optional\n",
        "    Type of output: numerator/denominator ('ba'), pole-zero ('zpk'), or second-order sections ('sos'). Default is 'ba' for backwards compatibility, but 'sos' should be used for general-purpose filtering.\n",
        "- fs : float, optional\n",
        "    The sampling frequency of the digital system.\n"
      ]
    },
    {
      "cell_type": "code",
      "execution_count": null,
      "metadata": {},
      "outputs": [],
      "source": [
        "n_order = 5\n",
        "Wn = 10 # cutoff frequency\n",
        "fs_hz=1000\n",
        "sos = signal.butter(N= n_order, Wn= Wn, btype= 'lp', fs=fs_hz, output='sos')\n",
        "filtered = signal.sosfilt(sos, sig)\n",
        "\n",
        "# calculate spectrum \n",
        "f, Pxx_spec = signal.welch(sig, fs_hz, 'flattop', 1024, scaling='spectrum')\n",
        "f, Pxx_spec_filt = signal.welch(filtered, fs_hz, 'flattop', 1024, scaling='spectrum')\n",
        "\n",
        "wb, hb = signal.sosfreqz(sos)\n",
        "fb = wb/(2*math.pi)"
      ]
    },
    {
      "cell_type": "code",
      "execution_count": null,
      "metadata": {},
      "outputs": [],
      "source": [
        "\n",
        "fig, (ax1, ax2) = plt.subplots(2, 1, sharex=True)\n",
        "fig.suptitle('Time Domain Filtering of signal with f1=10[Hz], f2=20[Hz] and noise')\n",
        "ax1.plot(t, sig)\n",
        "ax1.set_title('10 Hz and 20 Hz sinusoids + noise')\n",
        "ax1.axis([0, 1, -2, 2])\n",
        "ax2.plot(t, filtered)\n",
        "ax2.set_title('After filter')\n",
        "ax2.axis([0, 1, -2, 2])\n",
        "ax2.set_xlabel('Time [seconds]')\n",
        "plt.tight_layout()"
      ]
    },
    {
      "cell_type": "code",
      "execution_count": null,
      "metadata": {},
      "outputs": [],
      "source": [
        "%matplotlib inline\n",
        "# %matplotlib qt\n",
        "plt.plot(fb, 2e-2*abs(np.array(hb)))\n",
        "plt.semilogy(f/fs_hz, np.sqrt(Pxx_spec))\n",
        "plt.semilogy(f/fs_hz, np.sqrt(Pxx_spec_filt))\n",
        "plt.title('Butter filter frequency response')\n",
        "plt.xlabel('Frequency [cycles/sample]')\n",
        "plt.ylabel('Amplitute [dB]')\n",
        "plt.xscale('log')\n",
        "plt.yscale('log')\n",
        "plt.margins(0, 0.1)\n",
        "plt.grid(which= 'both', axis= 'both')\n",
        "plt.ylim([1e-7, 1])\n",
        "# plt.savefig('Bessel Filter Freq Response.png')"
      ]
    },
    {
      "cell_type": "code",
      "execution_count": null,
      "metadata": {},
      "outputs": [],
      "source": [
        "fc_hz = 50\n",
        "sos = signal.butter(N= n_order, Wn=fc_hz, btype= 'lp', fs=fs_hz, output='sos')\n",
        "def filt_func(sig, fs_hz):\n",
        "    \n",
        "    filtered = signal.sosfilt(sos, sig)    \n",
        "    return filtered\n",
        "\n",
        "def plot_comparative_response(sig, # cutoff frequency\n",
        "        filter_func,fs_hz=1000):\n",
        "    \n",
        "    filtered = filter_func(sig, fs_hz)\n",
        "    \n",
        "    # calculate spectrum \n",
        "    f, Pxx_spec = signal.welch(sig, fs_hz, 'flattop', 1024, scaling='spectrum')\n",
        "    f, Pxx_spec_filt = signal.welch(filtered, fs_hz, 'flattop', 1024, scaling='spectrum')\n",
        "\n",
        "    wb, hb = signal.sosfreqz(sos)\n",
        "    fb = wb/(2*math.pi)\n",
        "    \n",
        "    # plot time domain \n",
        "    fig, (ax1, ax2) = plt.subplots(2, 1, sharex=True)\n",
        "    fig.suptitle('Time Domain Filtering of signal with f1=10[Hz], f2=20[Hz] and noise')\n",
        "    ax1.plot(t, sig)\n",
        "    ax1.set_title('10 Hz and 20 Hz sinusoids + noise')\n",
        "    ax1.axis([0, 1, -2, 2])\n",
        "    ax2.plot(t, filtered)\n",
        "    ax2.set_title('After filter')\n",
        "    ax2.axis([0, 1, -2, 2])\n",
        "    ax2.set_xlabel('Time [seconds]')\n",
        "    plt.tight_layout()\n",
        "    \n",
        "    fig, ax1 = plt.subplots(1, 1, sharex=True)\n",
        "    plt.plot(fb, 2e-2*abs(np.array(hb)), label='raw ')\n",
        "    plt.semilogy(f/fs_hz, np.sqrt(Pxx_spec), label='filtered')\n",
        "    plt.semilogy(f/fs_hz, np.sqrt(Pxx_spec_filt), label='response ')\n",
        "    plt.title('Butter filter frequency response')\n",
        "    plt.xlabel('Frequency [cycles/sample]')\n",
        "    plt.ylabel('Amplitute [dB]')\n",
        "    plt.xscale('log')\n",
        "    plt.yscale('log')\n",
        "    plt.margins(0, 0.1)\n",
        "    plt.grid(which= 'both', axis= 'both')\n",
        "    plt.ylim([1e-7, 1])\n",
        "    plt.legend()\n",
        "    # plt.savefig('Bessel Filter Freq Response.png')\n",
        "    \n",
        "plot_comparative_response(sig, # cutoff frequency\n",
        "        filter_func=filt_func,fs_hz=1000)\n",
        "    "
      ]
    },
    {
      "cell_type": "code",
      "execution_count": null,
      "metadata": {},
      "outputs": [],
      "source": []
    }
  ],
  "metadata": {
    "colab": {
      "include_colab_link": true,
      "name": "Torosian_filters .ipynb",
      "provenance": []
    },
    "interpreter": {
      "hash": "91cdd6a54b69e061f86911ce455005c91483a7ba58950d0d37afa21b1f9a7ac9"
    },
    "kernelspec": {
      "display_name": "Python 3.9.4 ('p3')",
      "language": "python",
      "name": "python3"
    },
    "language_info": {
      "codemirror_mode": {
        "name": "ipython",
        "version": 3
      },
      "file_extension": ".py",
      "mimetype": "text/x-python",
      "name": "python",
      "nbconvert_exporter": "python",
      "pygments_lexer": "ipython3",
      "version": "3.9.4"
    },
    "orig_nbformat": 4
  },
  "nbformat": 4,
  "nbformat_minor": 0
}
